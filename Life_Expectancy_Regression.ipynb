{
  "nbformat": 4,
  "nbformat_minor": 0,
  "metadata": {
    "kernelspec": {
      "display_name": "Python 3",
      "language": "python",
      "name": "python3"
    },
    "language_info": {
      "codemirror_mode": {
        "name": "ipython",
        "version": 3
      },
      "file_extension": ".py",
      "mimetype": "text/x-python",
      "name": "python",
      "nbconvert_exporter": "python",
      "pygments_lexer": "ipython3",
      "version": "3.8.5"
    },
    "colab": {
      "name": "Life_Expectancy_Regression.ipynb",
      "provenance": []
    }
  },
  "cells": [
    {
      "cell_type": "markdown",
      "metadata": {
        "id": "HBDbx3lyosvF"
      },
      "source": [
        "# Expecting Life Expectancy\n",
        "*Modeling Life Expectancy using Linear Regression*"
      ]
    },
    {
      "cell_type": "code",
      "metadata": {
        "id": "INrR-fD0osvT"
      },
      "source": [
        "import pandas as pd\n",
        "import numpy as np\n",
        "import seaborn as sns\n",
        "import matplotlib.pyplot as plt\n",
        "sns.set_context(\"paper\")"
      ],
      "execution_count": 1,
      "outputs": []
    },
    {
      "cell_type": "markdown",
      "metadata": {
        "id": "VpsYFc6Xo7P-"
      },
      "source": [
        "## Data wrangling and cleaning"
      ]
    },
    {
      "cell_type": "markdown",
      "metadata": {
        "id": "SpsmnsLrosvd"
      },
      "source": [
        "Source:\n",
        "https://www.kaggle.com/kumarajarshi/life-expectancy-who"
      ]
    },
    {
      "cell_type": "code",
      "metadata": {
        "id": "PzB5flz7osve",
        "outputId": "98808275-f36b-4025-e11b-fbff71f5ffc8"
      },
      "source": [
        "# Import data from Kaggle\n",
        "df = pd.read_csv(\"data/Life Expectancy Data.csv\")\n",
        "df.head()"
      ],
      "execution_count": null,
      "outputs": [
        {
          "data": {
            "text/html": [
              "<div>\n",
              "<style scoped>\n",
              "    .dataframe tbody tr th:only-of-type {\n",
              "        vertical-align: middle;\n",
              "    }\n",
              "\n",
              "    .dataframe tbody tr th {\n",
              "        vertical-align: top;\n",
              "    }\n",
              "\n",
              "    .dataframe thead th {\n",
              "        text-align: right;\n",
              "    }\n",
              "</style>\n",
              "<table border=\"1\" class=\"dataframe\">\n",
              "  <thead>\n",
              "    <tr style=\"text-align: right;\">\n",
              "      <th></th>\n",
              "      <th>Country</th>\n",
              "      <th>Year</th>\n",
              "      <th>Status</th>\n",
              "      <th>Life expectancy</th>\n",
              "      <th>Adult Mortality</th>\n",
              "      <th>infant deaths</th>\n",
              "      <th>Alcohol</th>\n",
              "      <th>percentage expenditure</th>\n",
              "      <th>Hepatitis B</th>\n",
              "      <th>Measles</th>\n",
              "      <th>...</th>\n",
              "      <th>Polio</th>\n",
              "      <th>Total expenditure</th>\n",
              "      <th>Diphtheria</th>\n",
              "      <th>HIV/AIDS</th>\n",
              "      <th>GDP</th>\n",
              "      <th>Population</th>\n",
              "      <th>thinness  1-19 years</th>\n",
              "      <th>thinness 5-9 years</th>\n",
              "      <th>Income composition of resources</th>\n",
              "      <th>Schooling</th>\n",
              "    </tr>\n",
              "  </thead>\n",
              "  <tbody>\n",
              "    <tr>\n",
              "      <th>0</th>\n",
              "      <td>Afghanistan</td>\n",
              "      <td>2015</td>\n",
              "      <td>Developing</td>\n",
              "      <td>65.0</td>\n",
              "      <td>263.0</td>\n",
              "      <td>62</td>\n",
              "      <td>0.01</td>\n",
              "      <td>71.279624</td>\n",
              "      <td>65.0</td>\n",
              "      <td>1154</td>\n",
              "      <td>...</td>\n",
              "      <td>6.0</td>\n",
              "      <td>8.16</td>\n",
              "      <td>65.0</td>\n",
              "      <td>0.1</td>\n",
              "      <td>584.259210</td>\n",
              "      <td>33736494.0</td>\n",
              "      <td>17.2</td>\n",
              "      <td>17.3</td>\n",
              "      <td>0.479</td>\n",
              "      <td>10.1</td>\n",
              "    </tr>\n",
              "    <tr>\n",
              "      <th>1</th>\n",
              "      <td>Afghanistan</td>\n",
              "      <td>2014</td>\n",
              "      <td>Developing</td>\n",
              "      <td>59.9</td>\n",
              "      <td>271.0</td>\n",
              "      <td>64</td>\n",
              "      <td>0.01</td>\n",
              "      <td>73.523582</td>\n",
              "      <td>62.0</td>\n",
              "      <td>492</td>\n",
              "      <td>...</td>\n",
              "      <td>58.0</td>\n",
              "      <td>8.18</td>\n",
              "      <td>62.0</td>\n",
              "      <td>0.1</td>\n",
              "      <td>612.696514</td>\n",
              "      <td>327582.0</td>\n",
              "      <td>17.5</td>\n",
              "      <td>17.5</td>\n",
              "      <td>0.476</td>\n",
              "      <td>10.0</td>\n",
              "    </tr>\n",
              "    <tr>\n",
              "      <th>2</th>\n",
              "      <td>Afghanistan</td>\n",
              "      <td>2013</td>\n",
              "      <td>Developing</td>\n",
              "      <td>59.9</td>\n",
              "      <td>268.0</td>\n",
              "      <td>66</td>\n",
              "      <td>0.01</td>\n",
              "      <td>73.219243</td>\n",
              "      <td>64.0</td>\n",
              "      <td>430</td>\n",
              "      <td>...</td>\n",
              "      <td>62.0</td>\n",
              "      <td>8.13</td>\n",
              "      <td>64.0</td>\n",
              "      <td>0.1</td>\n",
              "      <td>631.744976</td>\n",
              "      <td>31731688.0</td>\n",
              "      <td>17.7</td>\n",
              "      <td>17.7</td>\n",
              "      <td>0.470</td>\n",
              "      <td>9.9</td>\n",
              "    </tr>\n",
              "    <tr>\n",
              "      <th>3</th>\n",
              "      <td>Afghanistan</td>\n",
              "      <td>2012</td>\n",
              "      <td>Developing</td>\n",
              "      <td>59.5</td>\n",
              "      <td>272.0</td>\n",
              "      <td>69</td>\n",
              "      <td>0.01</td>\n",
              "      <td>78.184215</td>\n",
              "      <td>67.0</td>\n",
              "      <td>2787</td>\n",
              "      <td>...</td>\n",
              "      <td>67.0</td>\n",
              "      <td>8.52</td>\n",
              "      <td>67.0</td>\n",
              "      <td>0.1</td>\n",
              "      <td>669.959000</td>\n",
              "      <td>3696958.0</td>\n",
              "      <td>17.9</td>\n",
              "      <td>18.0</td>\n",
              "      <td>0.463</td>\n",
              "      <td>9.8</td>\n",
              "    </tr>\n",
              "    <tr>\n",
              "      <th>4</th>\n",
              "      <td>Afghanistan</td>\n",
              "      <td>2011</td>\n",
              "      <td>Developing</td>\n",
              "      <td>59.2</td>\n",
              "      <td>275.0</td>\n",
              "      <td>71</td>\n",
              "      <td>0.01</td>\n",
              "      <td>7.097109</td>\n",
              "      <td>68.0</td>\n",
              "      <td>3013</td>\n",
              "      <td>...</td>\n",
              "      <td>68.0</td>\n",
              "      <td>7.87</td>\n",
              "      <td>68.0</td>\n",
              "      <td>0.1</td>\n",
              "      <td>63.537231</td>\n",
              "      <td>2978599.0</td>\n",
              "      <td>18.2</td>\n",
              "      <td>18.2</td>\n",
              "      <td>0.454</td>\n",
              "      <td>9.5</td>\n",
              "    </tr>\n",
              "  </tbody>\n",
              "</table>\n",
              "<p>5 rows × 22 columns</p>\n",
              "</div>"
            ],
            "text/plain": [
              "       Country  Year      Status  Life expectancy   Adult Mortality  \\\n",
              "0  Afghanistan  2015  Developing              65.0            263.0   \n",
              "1  Afghanistan  2014  Developing              59.9            271.0   \n",
              "2  Afghanistan  2013  Developing              59.9            268.0   \n",
              "3  Afghanistan  2012  Developing              59.5            272.0   \n",
              "4  Afghanistan  2011  Developing              59.2            275.0   \n",
              "\n",
              "   infant deaths  Alcohol  percentage expenditure  Hepatitis B  Measles   ...  \\\n",
              "0             62     0.01               71.279624         65.0      1154  ...   \n",
              "1             64     0.01               73.523582         62.0       492  ...   \n",
              "2             66     0.01               73.219243         64.0       430  ...   \n",
              "3             69     0.01               78.184215         67.0      2787  ...   \n",
              "4             71     0.01                7.097109         68.0      3013  ...   \n",
              "\n",
              "   Polio  Total expenditure  Diphtheria    HIV/AIDS         GDP  Population  \\\n",
              "0    6.0               8.16         65.0        0.1  584.259210  33736494.0   \n",
              "1   58.0               8.18         62.0        0.1  612.696514    327582.0   \n",
              "2   62.0               8.13         64.0        0.1  631.744976  31731688.0   \n",
              "3   67.0               8.52         67.0        0.1  669.959000   3696958.0   \n",
              "4   68.0               7.87         68.0        0.1   63.537231   2978599.0   \n",
              "\n",
              "    thinness  1-19 years   thinness 5-9 years  \\\n",
              "0                   17.2                 17.3   \n",
              "1                   17.5                 17.5   \n",
              "2                   17.7                 17.7   \n",
              "3                   17.9                 18.0   \n",
              "4                   18.2                 18.2   \n",
              "\n",
              "   Income composition of resources  Schooling  \n",
              "0                            0.479       10.1  \n",
              "1                            0.476       10.0  \n",
              "2                            0.470        9.9  \n",
              "3                            0.463        9.8  \n",
              "4                            0.454        9.5  \n",
              "\n",
              "[5 rows x 22 columns]"
            ]
          },
          "execution_count": 45,
          "metadata": {},
          "output_type": "execute_result"
        }
      ]
    },
    {
      "cell_type": "code",
      "metadata": {
        "id": "9SZpdBhnosvg",
        "outputId": "7629e6ae-0a46-4a46-d0e2-550b95f744c7"
      },
      "source": [
        "df.columns.to_list()"
      ],
      "execution_count": null,
      "outputs": [
        {
          "data": {
            "text/plain": [
              "['Country',\n",
              " 'Year',\n",
              " 'Status',\n",
              " 'Life expectancy ',\n",
              " 'Adult Mortality',\n",
              " 'infant deaths',\n",
              " 'Alcohol',\n",
              " 'percentage expenditure',\n",
              " 'Hepatitis B',\n",
              " 'Measles ',\n",
              " ' BMI ',\n",
              " 'under-five deaths ',\n",
              " 'Polio',\n",
              " 'Total expenditure',\n",
              " 'Diphtheria ',\n",
              " ' HIV/AIDS',\n",
              " 'GDP',\n",
              " 'Population',\n",
              " ' thinness  1-19 years',\n",
              " ' thinness 5-9 years',\n",
              " 'Income composition of resources',\n",
              " 'Schooling']"
            ]
          },
          "execution_count": 46,
          "metadata": {},
          "output_type": "execute_result"
        }
      ]
    },
    {
      "cell_type": "code",
      "metadata": {
        "id": "Wpr6GkeNosvg",
        "outputId": "507ca806-52d8-4742-b643-f368d16d1480"
      },
      "source": [
        "df.dtypes"
      ],
      "execution_count": null,
      "outputs": [
        {
          "data": {
            "text/plain": [
              "Country                             object\n",
              "Year                                 int64\n",
              "Status                              object\n",
              "Life expectancy                    float64\n",
              "Adult Mortality                    float64\n",
              "infant deaths                        int64\n",
              "Alcohol                            float64\n",
              "percentage expenditure             float64\n",
              "Hepatitis B                        float64\n",
              "Measles                              int64\n",
              " BMI                               float64\n",
              "under-five deaths                    int64\n",
              "Polio                              float64\n",
              "Total expenditure                  float64\n",
              "Diphtheria                         float64\n",
              " HIV/AIDS                          float64\n",
              "GDP                                float64\n",
              "Population                         float64\n",
              " thinness  1-19 years              float64\n",
              " thinness 5-9 years                float64\n",
              "Income composition of resources    float64\n",
              "Schooling                          float64\n",
              "dtype: object"
            ]
          },
          "execution_count": 47,
          "metadata": {},
          "output_type": "execute_result"
        }
      ]
    },
    {
      "cell_type": "markdown",
      "metadata": {
        "id": "2a9T3UDoosvh"
      },
      "source": [
        "### 1. Data cleaning"
      ]
    },
    {
      "cell_type": "code",
      "metadata": {
        "id": "hFf8OLjwosvh",
        "outputId": "0a04b50e-e2f1-4083-b16d-516c18b2c0db"
      },
      "source": [
        "# Drop country, encode 'Status'\n",
        "\n",
        "raw_data = df.copy() #Create copy of raw data\n",
        "\n",
        "df.drop(['Country'], axis=1, inplace=True)\n",
        "\n",
        "df = pd.get_dummies(df, columns=['Status'], drop_first=True)\n",
        "\n",
        "df.head()\n"
      ],
      "execution_count": null,
      "outputs": [
        {
          "data": {
            "text/html": [
              "<div>\n",
              "<style scoped>\n",
              "    .dataframe tbody tr th:only-of-type {\n",
              "        vertical-align: middle;\n",
              "    }\n",
              "\n",
              "    .dataframe tbody tr th {\n",
              "        vertical-align: top;\n",
              "    }\n",
              "\n",
              "    .dataframe thead th {\n",
              "        text-align: right;\n",
              "    }\n",
              "</style>\n",
              "<table border=\"1\" class=\"dataframe\">\n",
              "  <thead>\n",
              "    <tr style=\"text-align: right;\">\n",
              "      <th></th>\n",
              "      <th>Year</th>\n",
              "      <th>Life expectancy</th>\n",
              "      <th>Adult Mortality</th>\n",
              "      <th>infant deaths</th>\n",
              "      <th>Alcohol</th>\n",
              "      <th>percentage expenditure</th>\n",
              "      <th>Hepatitis B</th>\n",
              "      <th>Measles</th>\n",
              "      <th>BMI</th>\n",
              "      <th>under-five deaths</th>\n",
              "      <th>...</th>\n",
              "      <th>Total expenditure</th>\n",
              "      <th>Diphtheria</th>\n",
              "      <th>HIV/AIDS</th>\n",
              "      <th>GDP</th>\n",
              "      <th>Population</th>\n",
              "      <th>thinness  1-19 years</th>\n",
              "      <th>thinness 5-9 years</th>\n",
              "      <th>Income composition of resources</th>\n",
              "      <th>Schooling</th>\n",
              "      <th>Status_Developing</th>\n",
              "    </tr>\n",
              "  </thead>\n",
              "  <tbody>\n",
              "    <tr>\n",
              "      <th>0</th>\n",
              "      <td>2015</td>\n",
              "      <td>65.0</td>\n",
              "      <td>263.0</td>\n",
              "      <td>62</td>\n",
              "      <td>0.01</td>\n",
              "      <td>71.279624</td>\n",
              "      <td>65.0</td>\n",
              "      <td>1154</td>\n",
              "      <td>19.1</td>\n",
              "      <td>83</td>\n",
              "      <td>...</td>\n",
              "      <td>8.16</td>\n",
              "      <td>65.0</td>\n",
              "      <td>0.1</td>\n",
              "      <td>584.259210</td>\n",
              "      <td>33736494.0</td>\n",
              "      <td>17.2</td>\n",
              "      <td>17.3</td>\n",
              "      <td>0.479</td>\n",
              "      <td>10.1</td>\n",
              "      <td>1</td>\n",
              "    </tr>\n",
              "    <tr>\n",
              "      <th>1</th>\n",
              "      <td>2014</td>\n",
              "      <td>59.9</td>\n",
              "      <td>271.0</td>\n",
              "      <td>64</td>\n",
              "      <td>0.01</td>\n",
              "      <td>73.523582</td>\n",
              "      <td>62.0</td>\n",
              "      <td>492</td>\n",
              "      <td>18.6</td>\n",
              "      <td>86</td>\n",
              "      <td>...</td>\n",
              "      <td>8.18</td>\n",
              "      <td>62.0</td>\n",
              "      <td>0.1</td>\n",
              "      <td>612.696514</td>\n",
              "      <td>327582.0</td>\n",
              "      <td>17.5</td>\n",
              "      <td>17.5</td>\n",
              "      <td>0.476</td>\n",
              "      <td>10.0</td>\n",
              "      <td>1</td>\n",
              "    </tr>\n",
              "    <tr>\n",
              "      <th>2</th>\n",
              "      <td>2013</td>\n",
              "      <td>59.9</td>\n",
              "      <td>268.0</td>\n",
              "      <td>66</td>\n",
              "      <td>0.01</td>\n",
              "      <td>73.219243</td>\n",
              "      <td>64.0</td>\n",
              "      <td>430</td>\n",
              "      <td>18.1</td>\n",
              "      <td>89</td>\n",
              "      <td>...</td>\n",
              "      <td>8.13</td>\n",
              "      <td>64.0</td>\n",
              "      <td>0.1</td>\n",
              "      <td>631.744976</td>\n",
              "      <td>31731688.0</td>\n",
              "      <td>17.7</td>\n",
              "      <td>17.7</td>\n",
              "      <td>0.470</td>\n",
              "      <td>9.9</td>\n",
              "      <td>1</td>\n",
              "    </tr>\n",
              "    <tr>\n",
              "      <th>3</th>\n",
              "      <td>2012</td>\n",
              "      <td>59.5</td>\n",
              "      <td>272.0</td>\n",
              "      <td>69</td>\n",
              "      <td>0.01</td>\n",
              "      <td>78.184215</td>\n",
              "      <td>67.0</td>\n",
              "      <td>2787</td>\n",
              "      <td>17.6</td>\n",
              "      <td>93</td>\n",
              "      <td>...</td>\n",
              "      <td>8.52</td>\n",
              "      <td>67.0</td>\n",
              "      <td>0.1</td>\n",
              "      <td>669.959000</td>\n",
              "      <td>3696958.0</td>\n",
              "      <td>17.9</td>\n",
              "      <td>18.0</td>\n",
              "      <td>0.463</td>\n",
              "      <td>9.8</td>\n",
              "      <td>1</td>\n",
              "    </tr>\n",
              "    <tr>\n",
              "      <th>4</th>\n",
              "      <td>2011</td>\n",
              "      <td>59.2</td>\n",
              "      <td>275.0</td>\n",
              "      <td>71</td>\n",
              "      <td>0.01</td>\n",
              "      <td>7.097109</td>\n",
              "      <td>68.0</td>\n",
              "      <td>3013</td>\n",
              "      <td>17.2</td>\n",
              "      <td>97</td>\n",
              "      <td>...</td>\n",
              "      <td>7.87</td>\n",
              "      <td>68.0</td>\n",
              "      <td>0.1</td>\n",
              "      <td>63.537231</td>\n",
              "      <td>2978599.0</td>\n",
              "      <td>18.2</td>\n",
              "      <td>18.2</td>\n",
              "      <td>0.454</td>\n",
              "      <td>9.5</td>\n",
              "      <td>1</td>\n",
              "    </tr>\n",
              "  </tbody>\n",
              "</table>\n",
              "<p>5 rows × 21 columns</p>\n",
              "</div>"
            ],
            "text/plain": [
              "   Year  Life expectancy   Adult Mortality  infant deaths  Alcohol  \\\n",
              "0  2015              65.0            263.0             62     0.01   \n",
              "1  2014              59.9            271.0             64     0.01   \n",
              "2  2013              59.9            268.0             66     0.01   \n",
              "3  2012              59.5            272.0             69     0.01   \n",
              "4  2011              59.2            275.0             71     0.01   \n",
              "\n",
              "   percentage expenditure  Hepatitis B  Measles    BMI   under-five deaths   \\\n",
              "0               71.279624         65.0      1154   19.1                  83   \n",
              "1               73.523582         62.0       492   18.6                  86   \n",
              "2               73.219243         64.0       430   18.1                  89   \n",
              "3               78.184215         67.0      2787   17.6                  93   \n",
              "4                7.097109         68.0      3013   17.2                  97   \n",
              "\n",
              "   ...  Total expenditure  Diphtheria    HIV/AIDS         GDP  Population  \\\n",
              "0  ...               8.16         65.0        0.1  584.259210  33736494.0   \n",
              "1  ...               8.18         62.0        0.1  612.696514    327582.0   \n",
              "2  ...               8.13         64.0        0.1  631.744976  31731688.0   \n",
              "3  ...               8.52         67.0        0.1  669.959000   3696958.0   \n",
              "4  ...               7.87         68.0        0.1   63.537231   2978599.0   \n",
              "\n",
              "    thinness  1-19 years   thinness 5-9 years  \\\n",
              "0                   17.2                 17.3   \n",
              "1                   17.5                 17.5   \n",
              "2                   17.7                 17.7   \n",
              "3                   17.9                 18.0   \n",
              "4                   18.2                 18.2   \n",
              "\n",
              "   Income composition of resources  Schooling  Status_Developing  \n",
              "0                            0.479       10.1                  1  \n",
              "1                            0.476       10.0                  1  \n",
              "2                            0.470        9.9                  1  \n",
              "3                            0.463        9.8                  1  \n",
              "4                            0.454        9.5                  1  \n",
              "\n",
              "[5 rows x 21 columns]"
            ]
          },
          "execution_count": 48,
          "metadata": {},
          "output_type": "execute_result"
        }
      ]
    },
    {
      "cell_type": "code",
      "metadata": {
        "id": "Su9Hlz3Losvi",
        "outputId": "6ede718c-c9aa-42d4-e891-a5b43c8bb1dc"
      },
      "source": [
        "raw_data.shape"
      ],
      "execution_count": null,
      "outputs": [
        {
          "data": {
            "text/plain": [
              "(2938, 22)"
            ]
          },
          "execution_count": 89,
          "metadata": {},
          "output_type": "execute_result"
        }
      ]
    },
    {
      "cell_type": "code",
      "metadata": {
        "id": "3HamUz2Uosvj",
        "outputId": "5005731b-1443-4a29-c59d-46a2ce5d3761"
      },
      "source": [
        "# Check for missing values\n",
        "\n",
        "df.info()"
      ],
      "execution_count": null,
      "outputs": [
        {
          "name": "stdout",
          "output_type": "stream",
          "text": [
            "<class 'pandas.core.frame.DataFrame'>\n",
            "RangeIndex: 2938 entries, 0 to 2937\n",
            "Data columns (total 21 columns):\n",
            " #   Column                           Non-Null Count  Dtype  \n",
            "---  ------                           --------------  -----  \n",
            " 0   Year                             2938 non-null   int64  \n",
            " 1   Life expectancy                  2928 non-null   float64\n",
            " 2   Adult Mortality                  2928 non-null   float64\n",
            " 3   infant deaths                    2938 non-null   int64  \n",
            " 4   Alcohol                          2744 non-null   float64\n",
            " 5   percentage expenditure           2938 non-null   float64\n",
            " 6   Hepatitis B                      2385 non-null   float64\n",
            " 7   Measles                          2938 non-null   int64  \n",
            " 8    BMI                             2904 non-null   float64\n",
            " 9   under-five deaths                2938 non-null   int64  \n",
            " 10  Polio                            2919 non-null   float64\n",
            " 11  Total expenditure                2712 non-null   float64\n",
            " 12  Diphtheria                       2919 non-null   float64\n",
            " 13   HIV/AIDS                        2938 non-null   float64\n",
            " 14  GDP                              2490 non-null   float64\n",
            " 15  Population                       2286 non-null   float64\n",
            " 16   thinness  1-19 years            2904 non-null   float64\n",
            " 17   thinness 5-9 years              2904 non-null   float64\n",
            " 18  Income composition of resources  2771 non-null   float64\n",
            " 19  Schooling                        2775 non-null   float64\n",
            " 20  Status_Developing                2938 non-null   uint8  \n",
            "dtypes: float64(16), int64(4), uint8(1)\n",
            "memory usage: 462.1 KB\n"
          ]
        }
      ]
    },
    {
      "cell_type": "code",
      "metadata": {
        "id": "At_ax7moosvk",
        "outputId": "337952b1-ee0d-433e-df8e-98c1daade118"
      },
      "source": [
        "# Because missing values in population apply to only certain countries, we will delete these rows\n",
        "\n",
        "df.dropna(how='all', inplace=True)\n",
        "df.dropna(subset=['Population'], inplace=True)\n",
        "\n",
        "df.shape"
      ],
      "execution_count": null,
      "outputs": [
        {
          "data": {
            "text/plain": [
              "(2286, 21)"
            ]
          },
          "execution_count": 50,
          "metadata": {},
          "output_type": "execute_result"
        }
      ]
    },
    {
      "cell_type": "code",
      "metadata": {
        "id": "W8ytnKYzosvl",
        "outputId": "d5b897bf-e0df-4e6e-f7df-a1728c04e0b5"
      },
      "source": [
        "df.info()"
      ],
      "execution_count": null,
      "outputs": [
        {
          "name": "stdout",
          "output_type": "stream",
          "text": [
            "<class 'pandas.core.frame.DataFrame'>\n",
            "Int64Index: 2286 entries, 0 to 2937\n",
            "Data columns (total 21 columns):\n",
            " #   Column                           Non-Null Count  Dtype  \n",
            "---  ------                           --------------  -----  \n",
            " 0   Year                             2286 non-null   int64  \n",
            " 1   Life expectancy                  2284 non-null   float64\n",
            " 2   Adult Mortality                  2284 non-null   float64\n",
            " 3   infant deaths                    2286 non-null   int64  \n",
            " 4   Alcohol                          2130 non-null   float64\n",
            " 5   percentage expenditure           2286 non-null   float64\n",
            " 6   Hepatitis B                      1804 non-null   float64\n",
            " 7   Measles                          2286 non-null   int64  \n",
            " 8    BMI                             2254 non-null   float64\n",
            " 9   under-five deaths                2286 non-null   int64  \n",
            " 10  Polio                            2267 non-null   float64\n",
            " 11  Total expenditure                2131 non-null   float64\n",
            " 12  Diphtheria                       2267 non-null   float64\n",
            " 13   HIV/AIDS                        2286 non-null   float64\n",
            " 14  GDP                              2264 non-null   float64\n",
            " 15  Population                       2286 non-null   float64\n",
            " 16   thinness  1-19 years            2254 non-null   float64\n",
            " 17   thinness 5-9 years              2254 non-null   float64\n",
            " 18  Income composition of resources  2285 non-null   float64\n",
            " 19  Schooling                        2286 non-null   float64\n",
            " 20  Status_Developing                2286 non-null   uint8  \n",
            "dtypes: float64(16), int64(4), uint8(1)\n",
            "memory usage: 377.3 KB\n"
          ]
        }
      ]
    },
    {
      "cell_type": "code",
      "metadata": {
        "id": "MARGTS5vosvl",
        "outputId": "13b08872-5d0d-4f46-ac9f-604cded1ea67"
      },
      "source": [
        "df.describe()"
      ],
      "execution_count": null,
      "outputs": [
        {
          "data": {
            "text/html": [
              "<div>\n",
              "<style scoped>\n",
              "    .dataframe tbody tr th:only-of-type {\n",
              "        vertical-align: middle;\n",
              "    }\n",
              "\n",
              "    .dataframe tbody tr th {\n",
              "        vertical-align: top;\n",
              "    }\n",
              "\n",
              "    .dataframe thead th {\n",
              "        text-align: right;\n",
              "    }\n",
              "</style>\n",
              "<table border=\"1\" class=\"dataframe\">\n",
              "  <thead>\n",
              "    <tr style=\"text-align: right;\">\n",
              "      <th></th>\n",
              "      <th>Year</th>\n",
              "      <th>Life expectancy</th>\n",
              "      <th>Adult Mortality</th>\n",
              "      <th>infant deaths</th>\n",
              "      <th>Alcohol</th>\n",
              "      <th>percentage expenditure</th>\n",
              "      <th>Hepatitis B</th>\n",
              "      <th>Measles</th>\n",
              "      <th>BMI</th>\n",
              "      <th>under-five deaths</th>\n",
              "      <th>...</th>\n",
              "      <th>Total expenditure</th>\n",
              "      <th>Diphtheria</th>\n",
              "      <th>HIV/AIDS</th>\n",
              "      <th>GDP</th>\n",
              "      <th>Population</th>\n",
              "      <th>thinness  1-19 years</th>\n",
              "      <th>thinness 5-9 years</th>\n",
              "      <th>Income composition of resources</th>\n",
              "      <th>Schooling</th>\n",
              "      <th>Status_Developing</th>\n",
              "    </tr>\n",
              "  </thead>\n",
              "  <tbody>\n",
              "    <tr>\n",
              "      <th>count</th>\n",
              "      <td>2286.000000</td>\n",
              "      <td>2284.000000</td>\n",
              "      <td>2284.000000</td>\n",
              "      <td>2286.000000</td>\n",
              "      <td>2130.000000</td>\n",
              "      <td>2286.000000</td>\n",
              "      <td>1804.000000</td>\n",
              "      <td>2286.000000</td>\n",
              "      <td>2254.000000</td>\n",
              "      <td>2286.000000</td>\n",
              "      <td>...</td>\n",
              "      <td>2131.000000</td>\n",
              "      <td>2267.000000</td>\n",
              "      <td>2286.000000</td>\n",
              "      <td>2264.000000</td>\n",
              "      <td>2.286000e+03</td>\n",
              "      <td>2254.000000</td>\n",
              "      <td>2254.000000</td>\n",
              "      <td>2285.000000</td>\n",
              "      <td>2286.000000</td>\n",
              "      <td>2286.000000</td>\n",
              "    </tr>\n",
              "    <tr>\n",
              "      <th>mean</th>\n",
              "      <td>2007.494313</td>\n",
              "      <td>68.685595</td>\n",
              "      <td>170.154116</td>\n",
              "      <td>34.082240</td>\n",
              "      <td>4.687695</td>\n",
              "      <td>831.307362</td>\n",
              "      <td>79.120288</td>\n",
              "      <td>2548.646982</td>\n",
              "      <td>37.493789</td>\n",
              "      <td>47.373578</td>\n",
              "      <td>...</td>\n",
              "      <td>6.009892</td>\n",
              "      <td>81.251875</td>\n",
              "      <td>2.055862</td>\n",
              "      <td>6628.839008</td>\n",
              "      <td>1.275338e+07</td>\n",
              "      <td>4.877019</td>\n",
              "      <td>4.937134</td>\n",
              "      <td>0.618676</td>\n",
              "      <td>11.860936</td>\n",
              "      <td>0.818023</td>\n",
              "    </tr>\n",
              "    <tr>\n",
              "      <th>std</th>\n",
              "      <td>4.608594</td>\n",
              "      <td>9.827899</td>\n",
              "      <td>128.996028</td>\n",
              "      <td>131.708501</td>\n",
              "      <td>4.050006</td>\n",
              "      <td>2164.729144</td>\n",
              "      <td>25.615235</td>\n",
              "      <td>11548.200909</td>\n",
              "      <td>19.902236</td>\n",
              "      <td>179.042015</td>\n",
              "      <td>...</td>\n",
              "      <td>2.378780</td>\n",
              "      <td>24.037878</td>\n",
              "      <td>5.646077</td>\n",
              "      <td>13536.349181</td>\n",
              "      <td>6.101210e+07</td>\n",
              "      <td>4.666797</td>\n",
              "      <td>4.764169</td>\n",
              "      <td>0.211339</td>\n",
              "      <td>3.443492</td>\n",
              "      <td>0.385910</td>\n",
              "    </tr>\n",
              "    <tr>\n",
              "      <th>min</th>\n",
              "      <td>2000.000000</td>\n",
              "      <td>36.300000</td>\n",
              "      <td>1.000000</td>\n",
              "      <td>0.000000</td>\n",
              "      <td>0.010000</td>\n",
              "      <td>0.000000</td>\n",
              "      <td>2.000000</td>\n",
              "      <td>0.000000</td>\n",
              "      <td>1.400000</td>\n",
              "      <td>0.000000</td>\n",
              "      <td>...</td>\n",
              "      <td>0.370000</td>\n",
              "      <td>2.000000</td>\n",
              "      <td>0.100000</td>\n",
              "      <td>1.681350</td>\n",
              "      <td>3.400000e+01</td>\n",
              "      <td>0.100000</td>\n",
              "      <td>0.100000</td>\n",
              "      <td>0.000000</td>\n",
              "      <td>0.000000</td>\n",
              "      <td>0.000000</td>\n",
              "    </tr>\n",
              "    <tr>\n",
              "      <th>25%</th>\n",
              "      <td>2003.250000</td>\n",
              "      <td>62.200000</td>\n",
              "      <td>72.000000</td>\n",
              "      <td>0.000000</td>\n",
              "      <td>0.932500</td>\n",
              "      <td>20.863085</td>\n",
              "      <td>74.000000</td>\n",
              "      <td>0.000000</td>\n",
              "      <td>18.725000</td>\n",
              "      <td>1.000000</td>\n",
              "      <td>...</td>\n",
              "      <td>4.370000</td>\n",
              "      <td>77.000000</td>\n",
              "      <td>0.100000</td>\n",
              "      <td>435.661704</td>\n",
              "      <td>1.957932e+05</td>\n",
              "      <td>1.500000</td>\n",
              "      <td>1.500000</td>\n",
              "      <td>0.480000</td>\n",
              "      <td>9.825000</td>\n",
              "      <td>1.000000</td>\n",
              "    </tr>\n",
              "    <tr>\n",
              "      <th>50%</th>\n",
              "      <td>2007.000000</td>\n",
              "      <td>71.400000</td>\n",
              "      <td>146.000000</td>\n",
              "      <td>3.000000</td>\n",
              "      <td>4.050000</td>\n",
              "      <td>94.345833</td>\n",
              "      <td>89.000000</td>\n",
              "      <td>17.000000</td>\n",
              "      <td>42.100000</td>\n",
              "      <td>4.000000</td>\n",
              "      <td>...</td>\n",
              "      <td>5.880000</td>\n",
              "      <td>92.000000</td>\n",
              "      <td>0.100000</td>\n",
              "      <td>1521.980960</td>\n",
              "      <td>1.386542e+06</td>\n",
              "      <td>2.900000</td>\n",
              "      <td>3.100000</td>\n",
              "      <td>0.663000</td>\n",
              "      <td>12.100000</td>\n",
              "      <td>1.000000</td>\n",
              "    </tr>\n",
              "    <tr>\n",
              "      <th>75%</th>\n",
              "      <td>2011.000000</td>\n",
              "      <td>75.400000</td>\n",
              "      <td>237.000000</td>\n",
              "      <td>24.000000</td>\n",
              "      <td>7.530000</td>\n",
              "      <td>491.915892</td>\n",
              "      <td>96.000000</td>\n",
              "      <td>438.250000</td>\n",
              "      <td>55.800000</td>\n",
              "      <td>33.000000</td>\n",
              "      <td>...</td>\n",
              "      <td>7.700000</td>\n",
              "      <td>96.000000</td>\n",
              "      <td>1.200000</td>\n",
              "      <td>5178.561948</td>\n",
              "      <td>7.420359e+06</td>\n",
              "      <td>7.300000</td>\n",
              "      <td>7.400000</td>\n",
              "      <td>0.767000</td>\n",
              "      <td>14.300000</td>\n",
              "      <td>1.000000</td>\n",
              "    </tr>\n",
              "    <tr>\n",
              "      <th>max</th>\n",
              "      <td>2015.000000</td>\n",
              "      <td>89.000000</td>\n",
              "      <td>723.000000</td>\n",
              "      <td>1800.000000</td>\n",
              "      <td>17.870000</td>\n",
              "      <td>19479.911610</td>\n",
              "      <td>99.000000</td>\n",
              "      <td>212183.000000</td>\n",
              "      <td>83.300000</td>\n",
              "      <td>2500.000000</td>\n",
              "      <td>...</td>\n",
              "      <td>16.610000</td>\n",
              "      <td>99.000000</td>\n",
              "      <td>50.600000</td>\n",
              "      <td>119172.741800</td>\n",
              "      <td>1.293859e+09</td>\n",
              "      <td>27.700000</td>\n",
              "      <td>28.600000</td>\n",
              "      <td>0.948000</td>\n",
              "      <td>20.700000</td>\n",
              "      <td>1.000000</td>\n",
              "    </tr>\n",
              "  </tbody>\n",
              "</table>\n",
              "<p>8 rows × 21 columns</p>\n",
              "</div>"
            ],
            "text/plain": [
              "              Year  Life expectancy   Adult Mortality  infant deaths  \\\n",
              "count  2286.000000       2284.000000      2284.000000    2286.000000   \n",
              "mean   2007.494313         68.685595       170.154116      34.082240   \n",
              "std       4.608594          9.827899       128.996028     131.708501   \n",
              "min    2000.000000         36.300000         1.000000       0.000000   \n",
              "25%    2003.250000         62.200000        72.000000       0.000000   \n",
              "50%    2007.000000         71.400000       146.000000       3.000000   \n",
              "75%    2011.000000         75.400000       237.000000      24.000000   \n",
              "max    2015.000000         89.000000       723.000000    1800.000000   \n",
              "\n",
              "           Alcohol  percentage expenditure  Hepatitis B       Measles   \\\n",
              "count  2130.000000             2286.000000  1804.000000    2286.000000   \n",
              "mean      4.687695              831.307362    79.120288    2548.646982   \n",
              "std       4.050006             2164.729144    25.615235   11548.200909   \n",
              "min       0.010000                0.000000     2.000000       0.000000   \n",
              "25%       0.932500               20.863085    74.000000       0.000000   \n",
              "50%       4.050000               94.345833    89.000000      17.000000   \n",
              "75%       7.530000              491.915892    96.000000     438.250000   \n",
              "max      17.870000            19479.911610    99.000000  212183.000000   \n",
              "\n",
              "              BMI   under-five deaths   ...  Total expenditure  Diphtheria   \\\n",
              "count  2254.000000         2286.000000  ...        2131.000000  2267.000000   \n",
              "mean     37.493789           47.373578  ...           6.009892    81.251875   \n",
              "std      19.902236          179.042015  ...           2.378780    24.037878   \n",
              "min       1.400000            0.000000  ...           0.370000     2.000000   \n",
              "25%      18.725000            1.000000  ...           4.370000    77.000000   \n",
              "50%      42.100000            4.000000  ...           5.880000    92.000000   \n",
              "75%      55.800000           33.000000  ...           7.700000    96.000000   \n",
              "max      83.300000         2500.000000  ...          16.610000    99.000000   \n",
              "\n",
              "          HIV/AIDS            GDP    Population   thinness  1-19 years  \\\n",
              "count  2286.000000    2264.000000  2.286000e+03            2254.000000   \n",
              "mean      2.055862    6628.839008  1.275338e+07               4.877019   \n",
              "std       5.646077   13536.349181  6.101210e+07               4.666797   \n",
              "min       0.100000       1.681350  3.400000e+01               0.100000   \n",
              "25%       0.100000     435.661704  1.957932e+05               1.500000   \n",
              "50%       0.100000    1521.980960  1.386542e+06               2.900000   \n",
              "75%       1.200000    5178.561948  7.420359e+06               7.300000   \n",
              "max      50.600000  119172.741800  1.293859e+09              27.700000   \n",
              "\n",
              "        thinness 5-9 years  Income composition of resources    Schooling  \\\n",
              "count          2254.000000                      2285.000000  2286.000000   \n",
              "mean              4.937134                         0.618676    11.860936   \n",
              "std               4.764169                         0.211339     3.443492   \n",
              "min               0.100000                         0.000000     0.000000   \n",
              "25%               1.500000                         0.480000     9.825000   \n",
              "50%               3.100000                         0.663000    12.100000   \n",
              "75%               7.400000                         0.767000    14.300000   \n",
              "max              28.600000                         0.948000    20.700000   \n",
              "\n",
              "       Status_Developing  \n",
              "count        2286.000000  \n",
              "mean            0.818023  \n",
              "std             0.385910  \n",
              "min             0.000000  \n",
              "25%             1.000000  \n",
              "50%             1.000000  \n",
              "75%             1.000000  \n",
              "max             1.000000  \n",
              "\n",
              "[8 rows x 21 columns]"
            ]
          },
          "execution_count": 52,
          "metadata": {},
          "output_type": "execute_result"
        }
      ]
    },
    {
      "cell_type": "code",
      "metadata": {
        "id": "Hsz2c0F2osvl",
        "outputId": "f5ba081c-d22e-47c1-ebfb-b65c796fdca9"
      },
      "source": [
        "# All other missing avlues will be filled with the average\n",
        "\n",
        "for col in df.columns:\n",
        "    print(np.mean(df[col]))\n",
        "    df[col].fillna(np.mean(df[col]), inplace=True)"
      ],
      "execution_count": null,
      "outputs": [
        {
          "name": "stdout",
          "output_type": "stream",
          "text": [
            "2007.4943132108485\n",
            "68.68559544658497\n",
            "170.15411558669\n",
            "34.082239720035\n",
            "4.687694835680765\n",
            "831.3073619598144\n",
            "79.12028824833703\n",
            "2548.6469816272966\n",
            "37.49378881987576\n",
            "47.37357830271216\n",
            "81.15924128804588\n",
            "6.009892069450958\n",
            "81.25187472430525\n",
            "2.0558617672790627\n",
            "6628.839007917581\n",
            "12753375.120052498\n",
            "4.8770186335403745\n",
            "4.9371339840283905\n",
            "0.6186757111597361\n",
            "11.860936132983356\n",
            "0.8180227471566054\n"
          ]
        }
      ]
    },
    {
      "cell_type": "code",
      "metadata": {
        "id": "QJCRkR7Bosvm",
        "outputId": "a123b930-2fa9-4fee-ab58-24e0feaba849"
      },
      "source": [
        "df.info()"
      ],
      "execution_count": null,
      "outputs": [
        {
          "name": "stdout",
          "output_type": "stream",
          "text": [
            "<class 'pandas.core.frame.DataFrame'>\n",
            "Int64Index: 2286 entries, 0 to 2937\n",
            "Data columns (total 21 columns):\n",
            " #   Column                           Non-Null Count  Dtype  \n",
            "---  ------                           --------------  -----  \n",
            " 0   Year                             2286 non-null   int64  \n",
            " 1   Life expectancy                  2286 non-null   float64\n",
            " 2   Adult Mortality                  2286 non-null   float64\n",
            " 3   infant deaths                    2286 non-null   int64  \n",
            " 4   Alcohol                          2286 non-null   float64\n",
            " 5   percentage expenditure           2286 non-null   float64\n",
            " 6   Hepatitis B                      2286 non-null   float64\n",
            " 7   Measles                          2286 non-null   int64  \n",
            " 8    BMI                             2286 non-null   float64\n",
            " 9   under-five deaths                2286 non-null   int64  \n",
            " 10  Polio                            2286 non-null   float64\n",
            " 11  Total expenditure                2286 non-null   float64\n",
            " 12  Diphtheria                       2286 non-null   float64\n",
            " 13   HIV/AIDS                        2286 non-null   float64\n",
            " 14  GDP                              2286 non-null   float64\n",
            " 15  Population                       2286 non-null   float64\n",
            " 16   thinness  1-19 years            2286 non-null   float64\n",
            " 17   thinness 5-9 years              2286 non-null   float64\n",
            " 18  Income composition of resources  2286 non-null   float64\n",
            " 19  Schooling                        2286 non-null   float64\n",
            " 20  Status_Developing                2286 non-null   uint8  \n",
            "dtypes: float64(16), int64(4), uint8(1)\n",
            "memory usage: 377.3 KB\n"
          ]
        }
      ]
    },
    {
      "cell_type": "code",
      "metadata": {
        "id": "5MYl2CT4osvn",
        "outputId": "8c4d9b6a-dab9-4d0a-d71a-a32f78567d50"
      },
      "source": [
        "#Vsualizing normality of target variable\n",
        "ax = sns.distplot(df['Life expectancy '], kde=False)\n",
        "ax.figure.savefig(\"target_raw.png\")"
      ],
      "execution_count": null,
      "outputs": [
        {
          "data": {
            "image/png": "[encoded data removed]",
            "text/plain": [
              "<Figure size 432x288 with 1 Axes>"
            ]
          },
          "metadata": {
            "needs_background": "light"
          },
          "output_type": "display_data"
        }
      ]
    },
    {
      "cell_type": "code",
      "metadata": {
        "id": "f6ArT6ddosvn",
        "outputId": "c503ec0d-9d21-4a81-c836-b6a4ac12b5fa"
      },
      "source": [
        "from scipy.stats import normaltest\n",
        "from scipy.stats import boxcox\n",
        "\n",
        "normaltest(df['Life expectancy '])"
      ],
      "execution_count": null,
      "outputs": [
        {
          "data": {
            "text/plain": [
              "NormaltestResult(statistic=114.92878290476102, pvalue=1.1054316282165258e-25)"
            ]
          },
          "execution_count": 56,
          "metadata": {},
          "output_type": "execute_result"
        }
      ]
    },
    {
      "cell_type": "code",
      "metadata": {
        "id": "VMC8MgFgosvo",
        "outputId": "581d7f95-6342-41fa-e822-7c353d78dd19"
      },
      "source": [
        "# Use boxcox to better approach a normal distribution for target variable\n",
        "bc_result = boxcox(df['Life expectancy '])\n",
        "boxcox_medv = bc_result[0]\n",
        "lam = bc_result[1]\n",
        "\n",
        "#plt.hist(boxcox_medv);\n",
        "ax = sns.distplot(boxcox_medv, kde=False)\n",
        "ax.set_xlabel(\"Life expectancy\")\n",
        "ax.figure.savefig(\"target_norm.png\")"
      ],
      "execution_count": null,
      "outputs": [
        {
          "data": {
            "image/png": "[encoded data removed]",
            "text/plain": [
              "<Figure size 432x288 with 1 Axes>"
            ]
          },
          "metadata": {
            "needs_background": "light"
          },
          "output_type": "display_data"
        }
      ]
    },
    {
      "cell_type": "code",
      "metadata": {
        "id": "RKk4zVeSosvq",
        "outputId": "c69bdcdf-db17-4911-f8db-814e0e2d2206"
      },
      "source": [
        "normaltest(boxcox_medv)"
      ],
      "execution_count": null,
      "outputs": [
        {
          "data": {
            "text/plain": [
              "NormaltestResult(statistic=88.93233684183984, pvalue=4.881894876978099e-20)"
            ]
          },
          "execution_count": 17,
          "metadata": {},
          "output_type": "execute_result"
        }
      ]
    },
    {
      "cell_type": "code",
      "metadata": {
        "id": "ZXGP5_zOosvo",
        "outputId": "2946ebc8-876f-4cb6-f7a7-4ab79c792fb8"
      },
      "source": [
        "# Correlation between variables\n",
        "corr = df.corr()\n",
        "mask = np.zeros_like(corr)\n",
        "mask[np.triu_indices_from(mask)] = True\n",
        "with sns.axes_style(\"white\"):\n",
        "    f, ax = plt.subplots(figsize=(7, 5))\n",
        "    ax = sns.heatmap(corr, mask=mask, square=True, linewidths=.3, center=0, vmin=-1, vmax=1)\n",
        "    \n",
        "ax.figure.savefig(\"corr.png\")"
      ],
      "execution_count": null,
      "outputs": [
        {
          "data": {
            "image/png": "[encoded data removed]",
            "text/plain": [
              "<Figure size 504x360 with 2 Axes>"
            ]
          },
          "metadata": {},
          "output_type": "display_data"
        }
      ]
    },
    {
      "cell_type": "code",
      "metadata": {
        "id": "YOCIf4xwosvp",
        "outputId": "0565b241-4369-4edb-da43-892ff4bb01e8"
      },
      "source": [
        "# Drop some highly correlated variables\n",
        "df.drop(axis=1, columns=['percentage expenditure', 'under-five deaths ', ' thinness 5-9 years'], inplace=True)\n",
        "df.head()"
      ],
      "execution_count": null,
      "outputs": [
        {
          "data": {
            "text/html": [
              "<div>\n",
              "<style scoped>\n",
              "    .dataframe tbody tr th:only-of-type {\n",
              "        vertical-align: middle;\n",
              "    }\n",
              "\n",
              "    .dataframe tbody tr th {\n",
              "        vertical-align: top;\n",
              "    }\n",
              "\n",
              "    .dataframe thead th {\n",
              "        text-align: right;\n",
              "    }\n",
              "</style>\n",
              "<table border=\"1\" class=\"dataframe\">\n",
              "  <thead>\n",
              "    <tr style=\"text-align: right;\">\n",
              "      <th></th>\n",
              "      <th>Year</th>\n",
              "      <th>Life expectancy</th>\n",
              "      <th>Adult Mortality</th>\n",
              "      <th>infant deaths</th>\n",
              "      <th>Alcohol</th>\n",
              "      <th>Hepatitis B</th>\n",
              "      <th>Measles</th>\n",
              "      <th>BMI</th>\n",
              "      <th>Polio</th>\n",
              "      <th>Total expenditure</th>\n",
              "      <th>Diphtheria</th>\n",
              "      <th>HIV/AIDS</th>\n",
              "      <th>GDP</th>\n",
              "      <th>Population</th>\n",
              "      <th>thinness  1-19 years</th>\n",
              "      <th>Income composition of resources</th>\n",
              "      <th>Schooling</th>\n",
              "      <th>Status_Developing</th>\n",
              "    </tr>\n",
              "  </thead>\n",
              "  <tbody>\n",
              "    <tr>\n",
              "      <th>0</th>\n",
              "      <td>2015</td>\n",
              "      <td>65.0</td>\n",
              "      <td>263.0</td>\n",
              "      <td>62</td>\n",
              "      <td>0.01</td>\n",
              "      <td>65.0</td>\n",
              "      <td>1154</td>\n",
              "      <td>19.1</td>\n",
              "      <td>6.0</td>\n",
              "      <td>8.16</td>\n",
              "      <td>65.0</td>\n",
              "      <td>0.1</td>\n",
              "      <td>584.259210</td>\n",
              "      <td>33736494.0</td>\n",
              "      <td>17.2</td>\n",
              "      <td>0.479</td>\n",
              "      <td>10.1</td>\n",
              "      <td>1</td>\n",
              "    </tr>\n",
              "    <tr>\n",
              "      <th>1</th>\n",
              "      <td>2014</td>\n",
              "      <td>59.9</td>\n",
              "      <td>271.0</td>\n",
              "      <td>64</td>\n",
              "      <td>0.01</td>\n",
              "      <td>62.0</td>\n",
              "      <td>492</td>\n",
              "      <td>18.6</td>\n",
              "      <td>58.0</td>\n",
              "      <td>8.18</td>\n",
              "      <td>62.0</td>\n",
              "      <td>0.1</td>\n",
              "      <td>612.696514</td>\n",
              "      <td>327582.0</td>\n",
              "      <td>17.5</td>\n",
              "      <td>0.476</td>\n",
              "      <td>10.0</td>\n",
              "      <td>1</td>\n",
              "    </tr>\n",
              "    <tr>\n",
              "      <th>2</th>\n",
              "      <td>2013</td>\n",
              "      <td>59.9</td>\n",
              "      <td>268.0</td>\n",
              "      <td>66</td>\n",
              "      <td>0.01</td>\n",
              "      <td>64.0</td>\n",
              "      <td>430</td>\n",
              "      <td>18.1</td>\n",
              "      <td>62.0</td>\n",
              "      <td>8.13</td>\n",
              "      <td>64.0</td>\n",
              "      <td>0.1</td>\n",
              "      <td>631.744976</td>\n",
              "      <td>31731688.0</td>\n",
              "      <td>17.7</td>\n",
              "      <td>0.470</td>\n",
              "      <td>9.9</td>\n",
              "      <td>1</td>\n",
              "    </tr>\n",
              "    <tr>\n",
              "      <th>3</th>\n",
              "      <td>2012</td>\n",
              "      <td>59.5</td>\n",
              "      <td>272.0</td>\n",
              "      <td>69</td>\n",
              "      <td>0.01</td>\n",
              "      <td>67.0</td>\n",
              "      <td>2787</td>\n",
              "      <td>17.6</td>\n",
              "      <td>67.0</td>\n",
              "      <td>8.52</td>\n",
              "      <td>67.0</td>\n",
              "      <td>0.1</td>\n",
              "      <td>669.959000</td>\n",
              "      <td>3696958.0</td>\n",
              "      <td>17.9</td>\n",
              "      <td>0.463</td>\n",
              "      <td>9.8</td>\n",
              "      <td>1</td>\n",
              "    </tr>\n",
              "    <tr>\n",
              "      <th>4</th>\n",
              "      <td>2011</td>\n",
              "      <td>59.2</td>\n",
              "      <td>275.0</td>\n",
              "      <td>71</td>\n",
              "      <td>0.01</td>\n",
              "      <td>68.0</td>\n",
              "      <td>3013</td>\n",
              "      <td>17.2</td>\n",
              "      <td>68.0</td>\n",
              "      <td>7.87</td>\n",
              "      <td>68.0</td>\n",
              "      <td>0.1</td>\n",
              "      <td>63.537231</td>\n",
              "      <td>2978599.0</td>\n",
              "      <td>18.2</td>\n",
              "      <td>0.454</td>\n",
              "      <td>9.5</td>\n",
              "      <td>1</td>\n",
              "    </tr>\n",
              "  </tbody>\n",
              "</table>\n",
              "</div>"
            ],
            "text/plain": [
              "   Year  Life expectancy   Adult Mortality  infant deaths  Alcohol  \\\n",
              "0  2015              65.0            263.0             62     0.01   \n",
              "1  2014              59.9            271.0             64     0.01   \n",
              "2  2013              59.9            268.0             66     0.01   \n",
              "3  2012              59.5            272.0             69     0.01   \n",
              "4  2011              59.2            275.0             71     0.01   \n",
              "\n",
              "   Hepatitis B  Measles    BMI   Polio  Total expenditure  Diphtheria   \\\n",
              "0         65.0      1154   19.1    6.0               8.16         65.0   \n",
              "1         62.0       492   18.6   58.0               8.18         62.0   \n",
              "2         64.0       430   18.1   62.0               8.13         64.0   \n",
              "3         67.0      2787   17.6   67.0               8.52         67.0   \n",
              "4         68.0      3013   17.2   68.0               7.87         68.0   \n",
              "\n",
              "    HIV/AIDS         GDP  Population   thinness  1-19 years  \\\n",
              "0        0.1  584.259210  33736494.0                   17.2   \n",
              "1        0.1  612.696514    327582.0                   17.5   \n",
              "2        0.1  631.744976  31731688.0                   17.7   \n",
              "3        0.1  669.959000   3696958.0                   17.9   \n",
              "4        0.1   63.537231   2978599.0                   18.2   \n",
              "\n",
              "   Income composition of resources  Schooling  Status_Developing  \n",
              "0                            0.479       10.1                  1  \n",
              "1                            0.476       10.0                  1  \n",
              "2                            0.470        9.9                  1  \n",
              "3                            0.463        9.8                  1  \n",
              "4                            0.454        9.5                  1  "
            ]
          },
          "execution_count": 16,
          "metadata": {},
          "output_type": "execute_result"
        }
      ]
    },
    {
      "cell_type": "markdown",
      "metadata": {
        "id": "_uKe7c7fosvq"
      },
      "source": [
        "## Regression Modeling & Evaluation"
      ]
    },
    {
      "cell_type": "code",
      "metadata": {
        "id": "jwO7sZlyosvr"
      },
      "source": [
        "from sklearn.preprocessing import StandardScaler, PolynomialFeatures\n",
        "from sklearn.model_selection import KFold, cross_val_predict\n",
        "from sklearn.linear_model import LinearRegression, Lasso, Ridge\n",
        "from sklearn.metrics import r2_score\n",
        "from sklearn.pipeline import Pipeline\n",
        "from sklearn.model_selection import GridSearchCV"
      ],
      "execution_count": null,
      "outputs": []
    },
    {
      "cell_type": "code",
      "metadata": {
        "id": "mCYoBnB6osvr"
      },
      "source": [
        "# Create X and y\n",
        "X = df.drop('Life expectancy ', axis=1)\n",
        "y = df['Life expectancy ']"
      ],
      "execution_count": null,
      "outputs": []
    },
    {
      "cell_type": "markdown",
      "metadata": {
        "id": "UJ64FFtjplKk"
      },
      "source": [
        "### 1. Linear Regression"
      ]
    },
    {
      "cell_type": "code",
      "metadata": {
        "id": "zDloHNOHosvr"
      },
      "source": [
        "# Standard LR\n",
        "\n",
        "kf = KFold(shuffle=True, random_state=72018, n_splits=10)\n",
        "\n",
        "estimator = Pipeline([(\"scaler\", StandardScaler()),\n",
        "                      (\"regression\", LinearRegression())])\n",
        "\n",
        "y_predict = cross_val_predict(estimator, X, y, cv=kf)\n"
      ],
      "execution_count": null,
      "outputs": []
    },
    {
      "cell_type": "code",
      "metadata": {
        "id": "hfT9AUI_osvs",
        "outputId": "f2b83a2a-2b07-4159-f52f-8c30a8afeb46"
      },
      "source": [
        "r2_score(y, y_predict)"
      ],
      "execution_count": null,
      "outputs": [
        {
          "data": {
            "text/plain": [
              "0.8369107472321646"
            ]
          },
          "execution_count": 86,
          "metadata": {},
          "output_type": "execute_result"
        }
      ]
    },
    {
      "cell_type": "markdown",
      "metadata": {
        "id": "SVbEKm2_poMh"
      },
      "source": [
        "### 2. Polynomial Regression"
      ]
    },
    {
      "cell_type": "code",
      "metadata": {
        "id": "7kQXEJ_kosvt"
      },
      "source": [
        "# Stanrdard LR with poly features\n",
        "\n",
        "kf = KFold(shuffle=True, random_state=72018, n_splits=10)\n",
        "\n",
        "estimator = Pipeline([(\"scaler\", StandardScaler()),\n",
        "                      (\"polynomial_features\", PolynomialFeatures(degree=2)),\n",
        "                      (\"regression\", LinearRegression())])\n",
        "\n",
        "y_predict = cross_val_predict(estimator, X, y, cv=kf)"
      ],
      "execution_count": null,
      "outputs": []
    },
    {
      "cell_type": "code",
      "metadata": {
        "id": "ouJxyt13osvt",
        "outputId": "f281d509-ad4f-413b-d7ff-e221d8bc5845"
      },
      "source": [
        "r2_score(y, y_predict)"
      ],
      "execution_count": null,
      "outputs": [
        {
          "data": {
            "text/plain": [
              "0.9164936572171775"
            ]
          },
          "execution_count": 88,
          "metadata": {},
          "output_type": "execute_result"
        }
      ]
    },
    {
      "cell_type": "markdown",
      "metadata": {
        "id": "Xe5Kwafjp0CB"
      },
      "source": [
        "### 3. Regularization w/ Ridge and LASSO"
      ]
    },
    {
      "cell_type": "code",
      "metadata": {
        "id": "Ci_XrpfDosvu"
      },
      "source": [
        "# Create pipeline with:\n",
        "# 1. Standard scaking\n",
        "# 2. Poly features\n",
        "# 3. Ridge\n",
        "\n",
        "kf = KFold(shuffle=True, random_state=72018, n_splits=10)\n",
        "\n",
        "estimator = Pipeline([(\"scaler\", StandardScaler()),\n",
        "        (\"polynomial_features\", PolynomialFeatures()),\n",
        "        (\"ridge_regression\", Ridge())])\n",
        "\n",
        "params = {\n",
        "    'polynomial_features__degree': [1, 2, 3],\n",
        "    'ridge_regression__alpha': np.geomspace(.1, 50, 40)\n",
        "}\n",
        "\n",
        "grid = GridSearchCV(estimator, params, cv=kf, verbose=1)\n"
      ],
      "execution_count": null,
      "outputs": []
    },
    {
      "cell_type": "code",
      "metadata": {
        "id": "5QZN4aD4osvu",
        "outputId": "75d2aee9-e9c5-4bc0-bbbb-f4a5bfdacc45"
      },
      "source": [
        "grid.fit(X, y)\n",
        "grid.best_score_, grid.best_params_"
      ],
      "execution_count": null,
      "outputs": [
        {
          "name": "stdout",
          "output_type": "stream",
          "text": [
            "Fitting 10 folds for each of 120 candidates, totalling 1200 fits\n"
          ]
        },
        {
          "name": "stderr",
          "output_type": "stream",
          "text": [
            "[Parallel(n_jobs=1)]: Using backend SequentialBackend with 1 concurrent workers.\n",
            "[Parallel(n_jobs=1)]: Done 1200 out of 1200 | elapsed:  1.5min finished\n"
          ]
        },
        {
          "data": {
            "text/plain": [
              "(0.9197520511611416,\n",
              " {'polynomial_features__degree': 2,\n",
              "  'ridge_regression__alpha': 19.219578092622115})"
            ]
          },
          "execution_count": 21,
          "metadata": {},
          "output_type": "execute_result"
        }
      ]
    },
    {
      "cell_type": "code",
      "metadata": {
        "id": "CSI9WfPiosvv"
      },
      "source": [
        "# Create pipeline with:\n",
        "# 1. Standard scaking\n",
        "# 2. Poly features\n",
        "# 3. LASSO\n",
        "\n",
        "kf = KFold(shuffle=True, random_state=72018, n_splits=10)\n",
        "\n",
        "estimator = Pipeline([(\"scaler\", StandardScaler()),\n",
        "        (\"polynomial_features\", PolynomialFeatures()),\n",
        "        (\"lasso_regression\", Lasso(max_iter=220000))])\n",
        "\n",
        "params = {\n",
        "    'polynomial_features__degree': [1, 2],\n",
        "    'lasso_regression__alpha': np.geomspace(0.001, 0.5, 20)\n",
        "}\n",
        "\n",
        "grid = GridSearchCV(estimator, params, cv=kf, verbose=1)"
      ],
      "execution_count": null,
      "outputs": []
    },
    {
      "cell_type": "code",
      "metadata": {
        "id": "h4eiB-Zoosvv",
        "outputId": "da8bc4f4-9b8e-46aa-ca32-7622fc80b89d"
      },
      "source": [
        "grid.fit(X, y)\n",
        "grid.best_score_, grid.best_params_"
      ],
      "execution_count": null,
      "outputs": [
        {
          "name": "stderr",
          "output_type": "stream",
          "text": [
            "[Parallel(n_jobs=1)]: Using backend SequentialBackend with 1 concurrent workers.\n"
          ]
        },
        {
          "name": "stdout",
          "output_type": "stream",
          "text": [
            "Fitting 10 folds for each of 40 candidates, totalling 400 fits\n"
          ]
        },
        {
          "name": "stderr",
          "output_type": "stream",
          "text": [
            "[Parallel(n_jobs=1)]: Done 400 out of 400 | elapsed:  2.0min finished\n"
          ]
        },
        {
          "data": {
            "text/plain": [
              "(0.9209046588994427,\n",
              " {'lasso_regression__alpha': 0.013690156816728805,\n",
              "  'polynomial_features__degree': 2})"
            ]
          },
          "execution_count": 23,
          "metadata": {},
          "output_type": "execute_result"
        }
      ]
    },
    {
      "cell_type": "code",
      "metadata": {
        "id": "iU4ogdFOosvw"
      },
      "source": [
        "features = X.columns.to_list()"
      ],
      "execution_count": null,
      "outputs": []
    },
    {
      "cell_type": "code",
      "metadata": {
        "id": "V9-QcQgZosvw"
      },
      "source": [
        "from sklearn.model_selection import train_test_split\n",
        "\n",
        "pf = PolynomialFeatures(degree= grid.best_params_['polynomial_features__degree'], include_bias=False)\n",
        "\n",
        "X_pf = pf.fit_transform(X)\n",
        "\n",
        "X_train, X_test, y_train, y_test = train_test_split(X_pf, y, test_size=0.3, \n",
        "                                                    random_state=34017)"
      ],
      "execution_count": null,
      "outputs": []
    },
    {
      "cell_type": "code",
      "metadata": {
        "id": "9NYZWYDEosvw",
        "outputId": "35591141-f118-4158-b9ea-8d95cffa30b5"
      },
      "source": [
        "lasso = Lasso(alpha= grid.best_params_['lasso_regression__alpha'], max_iter=200000)\n",
        "\n",
        "std = StandardScaler()\n",
        "\n",
        "X_train_s = std.fit_transform(X_train)\n",
        "lasso.fit(X_train_s, y_train)"
      ],
      "execution_count": null,
      "outputs": [
        {
          "data": {
            "text/plain": [
              "Lasso(alpha=0.013690156816728805, max_iter=200000)"
            ]
          },
          "execution_count": 32,
          "metadata": {},
          "output_type": "execute_result"
        }
      ]
    },
    {
      "cell_type": "code",
      "metadata": {
        "id": "Bw4Nu3zQosvy",
        "outputId": "2a17ba98-bc50-4051-dea9-85eb6d6fafc8"
      },
      "source": [
        "X_test_s = std.transform(X_test)\n",
        "\n",
        "y_predict = lasso.predict(X_test_s)\n",
        "\n",
        "from sklearn.metrics import r2_score\n",
        "r2_score(y_test, y_predict)"
      ],
      "execution_count": null,
      "outputs": [
        {
          "data": {
            "text/plain": [
              "0.9103952186305734"
            ]
          },
          "execution_count": 80,
          "metadata": {},
          "output_type": "execute_result"
        }
      ]
    },
    {
      "cell_type": "code",
      "metadata": {
        "id": "_N_iew3sosvz",
        "outputId": "8b31bbf8-cfb5-4bb6-99ca-20775a0c22e0"
      },
      "source": [
        "pf_features = pf.get_feature_names(input_features=features)\n",
        "pd.DataFrame(zip(pf_features, lasso.coef_)).sort_values(by=1)"
      ],
      "execution_count": null,
      "outputs": [
        {
          "data": {
            "text/html": [
              "<div>\n",
              "<style scoped>\n",
              "    .dataframe tbody tr th:only-of-type {\n",
              "        vertical-align: middle;\n",
              "    }\n",
              "\n",
              "    .dataframe tbody tr th {\n",
              "        vertical-align: top;\n",
              "    }\n",
              "\n",
              "    .dataframe thead th {\n",
              "        text-align: right;\n",
              "    }\n",
              "</style>\n",
              "<table border=\"1\" class=\"dataframe\">\n",
              "  <thead>\n",
              "    <tr style=\"text-align: right;\">\n",
              "      <th></th>\n",
              "      <th>0</th>\n",
              "      <th>1</th>\n",
              "    </tr>\n",
              "  </thead>\n",
              "  <tbody>\n",
              "    <tr>\n",
              "      <th>34</th>\n",
              "      <td>Adult Mortality^2</td>\n",
              "      <td>-6.336391</td>\n",
              "    </tr>\n",
              "    <tr>\n",
              "      <th>10</th>\n",
              "      <td>HIV/AIDS</td>\n",
              "      <td>-4.010608</td>\n",
              "    </tr>\n",
              "    <tr>\n",
              "      <th>165</th>\n",
              "      <td>Income composition of resources Schooling</td>\n",
              "      <td>-3.302546</td>\n",
              "    </tr>\n",
              "    <tr>\n",
              "      <th>113</th>\n",
              "      <td>BMI  Schooling</td>\n",
              "      <td>-2.563116</td>\n",
              "    </tr>\n",
              "    <tr>\n",
              "      <th>112</th>\n",
              "      <td>BMI  Income composition of resources</td>\n",
              "      <td>-1.464891</td>\n",
              "    </tr>\n",
              "    <tr>\n",
              "      <th>...</th>\n",
              "      <td>...</td>\n",
              "      <td>...</td>\n",
              "    </tr>\n",
              "    <tr>\n",
              "      <th>15</th>\n",
              "      <td>Schooling</td>\n",
              "      <td>2.410479</td>\n",
              "    </tr>\n",
              "    <tr>\n",
              "      <th>43</th>\n",
              "      <td>Adult Mortality  HIV/AIDS</td>\n",
              "      <td>3.737028</td>\n",
              "    </tr>\n",
              "    <tr>\n",
              "      <th>1</th>\n",
              "      <td>Adult Mortality</td>\n",
              "      <td>4.119912</td>\n",
              "    </tr>\n",
              "    <tr>\n",
              "      <th>6</th>\n",
              "      <td>BMI</td>\n",
              "      <td>4.143132</td>\n",
              "    </tr>\n",
              "    <tr>\n",
              "      <th>164</th>\n",
              "      <td>Income composition of resources^2</td>\n",
              "      <td>8.726517</td>\n",
              "    </tr>\n",
              "  </tbody>\n",
              "</table>\n",
              "<p>170 rows × 2 columns</p>\n",
              "</div>"
            ],
            "text/plain": [
              "                                             0         1\n",
              "34                           Adult Mortality^2 -6.336391\n",
              "10                                    HIV/AIDS -4.010608\n",
              "165  Income composition of resources Schooling -3.302546\n",
              "113                             BMI  Schooling -2.563116\n",
              "112       BMI  Income composition of resources -1.464891\n",
              "..                                         ...       ...\n",
              "15                                   Schooling  2.410479\n",
              "43                   Adult Mortality  HIV/AIDS  3.737028\n",
              "1                              Adult Mortality  4.119912\n",
              "6                                         BMI   4.143132\n",
              "164          Income composition of resources^2  8.726517\n",
              "\n",
              "[170 rows x 2 columns]"
            ]
          },
          "execution_count": 34,
          "metadata": {},
          "output_type": "execute_result"
        }
      ]
    },
    {
      "cell_type": "code",
      "metadata": {
        "id": "Gp-zVNl5osvz",
        "outputId": "90594b09-993b-447c-fd33-9dda3587c05e"
      },
      "source": [
        "print('sum of coefficients:', abs(lasso.coef_).sum())\n",
        "print('number of coefficients equal to 0:', (lasso.coef_==0).sum())\n",
        "print('number of coefficients not equal to 0:', (lasso.coef_!=0).sum())"
      ],
      "execution_count": null,
      "outputs": [
        {
          "name": "stdout",
          "output_type": "stream",
          "text": [
            "sum of coefficients: 68.76000868793412\n",
            "number of coefficients equal to 0: 96\n",
            "number of coefficients not equal to 0: 74\n"
          ]
        }
      ]
    },
    {
      "cell_type": "code",
      "metadata": {
        "id": "56_hIqqoosv5",
        "outputId": "ae807417-0b6d-480c-a3af-440da35760cc"
      },
      "source": [
        "# Distribution of errors\n",
        "normaltest((y_test - y_predict))"
      ],
      "execution_count": null,
      "outputs": [
        {
          "data": {
            "text/plain": [
              "NormaltestResult(statistic=64.98852707014652, pvalue=7.72539427130034e-15)"
            ]
          },
          "execution_count": 83,
          "metadata": {},
          "output_type": "execute_result"
        }
      ]
    }
  ]
}